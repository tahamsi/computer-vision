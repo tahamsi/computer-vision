{
  "nbformat": 4,
  "nbformat_minor": 0,
  "metadata": {
    "colab": {
      "provenance": [],
      "gpuType": "T4",
      "authorship_tag": "ABX9TyOpuJtewdZi5jq2FoKsrIN+",
      "include_colab_link": true
    },
    "kernelspec": {
      "name": "python3",
      "display_name": "Python 3"
    },
    "language_info": {
      "name": "python"
    },
    "accelerator": "GPU"
  },
  "cells": [
    {
      "cell_type": "markdown",
      "metadata": {
        "id": "view-in-github",
        "colab_type": "text"
      },
      "source": [
        "<a href=\"https://colab.research.google.com/github/tahamsi/computer-vision/blob/main/week-6/Linear_Regression.ipynb\" target=\"_parent\"><img src=\"https://colab.research.google.com/assets/colab-badge.svg\" alt=\"Open In Colab\"/></a>"
      ]
    },
    {
      "cell_type": "markdown",
      "source": [
        "  [![GitHub](https://badges.aleen42.com/src/github.svg)](https://github.com/tahamsi/computer-vision)"
      ],
      "metadata": {
        "id": "O2IaxyHyRTqE"
      }
    },
    {
      "cell_type": "markdown",
      "source": [
        "##Linear regression\n",
        "is a simple machine learning method used to model the relationship between a dependent variable (often called the response or outcome) and one or more independent variables (also called predictors or features). It assumes that this relationship is linear, meaning that the dependent variable can be expressed as a linear combination of the independent variables."
      ],
      "metadata": {
        "id": "V8R1YemLATIY"
      }
    },
    {
      "cell_type": "markdown",
      "source": [
        "**Key Components:**\n",
        "\n",
        "\n",
        "*   Dependent Variable (y): The outcome you're trying to predict or explain (e.g., house prices, sales).\n",
        "*   Independent Variables (X): The input variables that influence the dependent variable (e.g., number of rooms, square footage).\n",
        "*   Regression Coefficients (w): These are the weights or parameters the model learns to minimize the difference between the predicted and actual values.\n",
        "\n",
        "*   Intercept (b): A constant value representing the point where the regression line crosses the y-axis (when all independent variables are zero).\n",
        "*   Error Term (e): The difference between the actual observed values and the predicted values. It's assumed to be normally distributed."
      ],
      "metadata": {
        "id": "a4h70afnAykc"
      }
    },
    {
      "cell_type": "markdown",
      "source": [
        "**Mathematical Formula:**\n",
        "\n",
        "For simple linear regression (one independent variable):\n",
        "\n",
        "$y = b + w \\times x + e$\n",
        "\n",
        "Where:\n",
        "\n",
        "* $y$ is the dependent variable,\n",
        "* $x$ is the independent variable,\n",
        "* $b$ is the intercept,\n",
        "* $w$ is the coefficient (slope of the line),\n",
        "* $e$ is the error term.\n",
        "\n",
        "For multiple linear regression (multiple independent variables):\n",
        "\n",
        "$y = b + w_1 \\times x_1 + w_2 \\times x_2 + w_3 \\times x_3 +...+ w_n \\times x_n$"
      ],
      "metadata": {
        "id": "OIB2WrygBfq2"
      }
    },
    {
      "cell_type": "markdown",
      "source": [
        "![download.png](data:image/png;base64,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)"
      ],
      "metadata": {
        "id": "AqjRiVKKDlo9"
      }
    },
    {
      "cell_type": "markdown",
      "source": [
        "# Prepare the environment\n",
        "\n",
        "**TensorFlow** is an open-source machine learning framework developed by the Google Brain team. It is widely used for various machine learning and deep learning tasks. **TensorFlow** is particularly popular for deep learning applications, such as image and speech recognition, natural language processing, and generative models.\n",
        "\n",
        "*Make sure that TensorFlow is installed on your notebook.*\n",
        "\n",
        "*If you are running this notebook in Google Colab, navigate to Edit -> Notebook settings -> Hardware accelerator, set it to GPU, and then click Save. This will ensure your notebook uses a GPU, which will significantly speed up model training times.*"
      ],
      "metadata": {
        "id": "54ATi-t1O0DQ"
      }
    },
    {
      "cell_type": "markdown",
      "source": [
        "## Before you start\n",
        "\n",
        "Let's make sure that we have access to GPU. We can use `nvidia-smi` command to do that. In case of any problems navigate to `Edit` -> `Notebook settings` -> `Hardware accelerator`, set it to `GPU`, and then click `Save`."
      ],
      "metadata": {
        "id": "wj2HhyBdPEWO"
      }
    },
    {
      "cell_type": "code",
      "source": [
        "!nvidia-smi"
      ],
      "metadata": {
        "colab": {
          "base_uri": "https://localhost:8080/"
        },
        "id": "qRP8QHhwPIzA",
        "outputId": "888ed49b-c000-4f69-da21-0e816a0e48d9"
      },
      "execution_count": null,
      "outputs": [
        {
          "output_type": "stream",
          "name": "stdout",
          "text": [
            "Fri Oct 11 21:02:02 2024       \n",
            "+---------------------------------------------------------------------------------------+\n",
            "| NVIDIA-SMI 535.104.05             Driver Version: 535.104.05   CUDA Version: 12.2     |\n",
            "|-----------------------------------------+----------------------+----------------------+\n",
            "| GPU  Name                 Persistence-M | Bus-Id        Disp.A | Volatile Uncorr. ECC |\n",
            "| Fan  Temp   Perf          Pwr:Usage/Cap |         Memory-Usage | GPU-Util  Compute M. |\n",
            "|                                         |                      |               MIG M. |\n",
            "|=========================================+======================+======================|\n",
            "|   0  Tesla T4                       Off | 00000000:00:04.0 Off |                    0 |\n",
            "| N/A   64C    P8              10W /  70W |      0MiB / 15360MiB |      0%      Default |\n",
            "|                                         |                      |                  N/A |\n",
            "+-----------------------------------------+----------------------+----------------------+\n",
            "                                                                                         \n",
            "+---------------------------------------------------------------------------------------+\n",
            "| Processes:                                                                            |\n",
            "|  GPU   GI   CI        PID   Type   Process name                            GPU Memory |\n",
            "|        ID   ID                                                             Usage      |\n",
            "|=======================================================================================|\n",
            "|  No running processes found                                                           |\n",
            "+---------------------------------------------------------------------------------------+\n"
          ]
        }
      ]
    },
    {
      "cell_type": "code",
      "execution_count": null,
      "metadata": {
        "id": "jkwjakKWjLor"
      },
      "outputs": [],
      "source": [
        "# import libraries\n",
        "import tensorflow as tf\n",
        "import pandas as pd\n",
        "import numpy as np\n",
        "import matplotlib.pyplot as plt\n",
        "from tensorflow.keras.layers import Input, Dense\n",
        "from tensorflow.keras.models import Model"
      ]
    },
    {
      "cell_type": "markdown",
      "source": [
        "##Use case\n",
        "\n",
        "Here’s a simple IoT-based smart home dataset for linear regression, where the goal is to predict the energy consumption of a smart home based on temperature, humidity, and light intensity. This dataset will be useful for modeling linear relationships between these features and energy consumption.\n",
        "\n",
        "Explanation of Columns:\n",
        "* Temperature (°C): The current temperature in the home.\n",
        "* Humidity (%): The humidity level in the home.\n",
        "* Light Intensity (lux): The intensity of light measured in lux.\n",
        "* Energy Consumption (kWh): The energy consumed by the smart home appliances in kilowatt-hours (kWh). This is the dependent variable (the target).\n",
        "\n",
        "**Use Case for Linear Regression**:\n",
        "\n",
        "In this dataset, the goal is to predict Energy Consumption (kWh) (dependent variable) based on Temperature, Humidity, and Light Intensity (independent variables). The relationship between energy consumption and these factors can be modeled using linear regression, where energy consumption is expected to increase or decrease with changes in temperature, humidity, and light intensity.\n",
        "\n",
        "Example of a Linear Regression Equation:\n",
        "\n",
        "$Energy Consumption = b + w_1 × Temperature + w_2 × Humidity + w_3 × Light Intensity$\n"
      ],
      "metadata": {
        "id": "5C5xuS0AFmIR"
      }
    },
    {
      "cell_type": "code",
      "source": [
        "# Upload the file\n",
        "# URL of the raw CSV file on GitHub\n",
        "url =  'https://github.com/tahamsi/computer-vision/blob/main/week-6/smart_home_regression.csv?raw=true'\n",
        "# Read the CSV into a pandas DataFrame\n",
        "data = pd.read_csv(url)\n",
        "data.head()"
      ],
      "metadata": {
        "colab": {
          "base_uri": "https://localhost:8080/",
          "height": 206
        },
        "id": "RVLaTZFDr2TN",
        "outputId": "c528c0d5-2cb6-4e42-e64b-e1e9b3ed11cd"
      },
      "execution_count": null,
      "outputs": [
        {
          "output_type": "execute_result",
          "data": {
            "text/plain": [
              "   Temperature  Humidity  Light_Intensity  Energy_Consumption\n",
              "0        22.65     63.34           280.28                3.53\n",
              "1        26.79     55.85           387.98                4.38\n",
              "2        24.07     56.89           470.43                4.53\n",
              "3        24.27     59.17           275.92                3.40\n",
              "4        22.79     60.17           304.52                3.90"
            ],
            "text/html": [
              "\n",
              "  <div id=\"df-baa7a816-0f58-4c07-a64a-510690c22871\" class=\"colab-df-container\">\n",
              "    <div>\n",
              "<style scoped>\n",
              "    .dataframe tbody tr th:only-of-type {\n",
              "        vertical-align: middle;\n",
              "    }\n",
              "\n",
              "    .dataframe tbody tr th {\n",
              "        vertical-align: top;\n",
              "    }\n",
              "\n",
              "    .dataframe thead th {\n",
              "        text-align: right;\n",
              "    }\n",
              "</style>\n",
              "<table border=\"1\" class=\"dataframe\">\n",
              "  <thead>\n",
              "    <tr style=\"text-align: right;\">\n",
              "      <th></th>\n",
              "      <th>Temperature</th>\n",
              "      <th>Humidity</th>\n",
              "      <th>Light_Intensity</th>\n",
              "      <th>Energy_Consumption</th>\n",
              "    </tr>\n",
              "  </thead>\n",
              "  <tbody>\n",
              "    <tr>\n",
              "      <th>0</th>\n",
              "      <td>22.65</td>\n",
              "      <td>63.34</td>\n",
              "      <td>280.28</td>\n",
              "      <td>3.53</td>\n",
              "    </tr>\n",
              "    <tr>\n",
              "      <th>1</th>\n",
              "      <td>26.79</td>\n",
              "      <td>55.85</td>\n",
              "      <td>387.98</td>\n",
              "      <td>4.38</td>\n",
              "    </tr>\n",
              "    <tr>\n",
              "      <th>2</th>\n",
              "      <td>24.07</td>\n",
              "      <td>56.89</td>\n",
              "      <td>470.43</td>\n",
              "      <td>4.53</td>\n",
              "    </tr>\n",
              "    <tr>\n",
              "      <th>3</th>\n",
              "      <td>24.27</td>\n",
              "      <td>59.17</td>\n",
              "      <td>275.92</td>\n",
              "      <td>3.40</td>\n",
              "    </tr>\n",
              "    <tr>\n",
              "      <th>4</th>\n",
              "      <td>22.79</td>\n",
              "      <td>60.17</td>\n",
              "      <td>304.52</td>\n",
              "      <td>3.90</td>\n",
              "    </tr>\n",
              "  </tbody>\n",
              "</table>\n",
              "</div>\n",
              "    <div class=\"colab-df-buttons\">\n",
              "\n",
              "  <div class=\"colab-df-container\">\n",
              "    <button class=\"colab-df-convert\" onclick=\"convertToInteractive('df-baa7a816-0f58-4c07-a64a-510690c22871')\"\n",
              "            title=\"Convert this dataframe to an interactive table.\"\n",
              "            style=\"display:none;\">\n",
              "\n",
              "  <svg xmlns=\"http://www.w3.org/2000/svg\" height=\"24px\" viewBox=\"0 -960 960 960\">\n",
              "    <path d=\"M120-120v-720h720v720H120Zm60-500h600v-160H180v160Zm220 220h160v-160H400v160Zm0 220h160v-160H400v160ZM180-400h160v-160H180v160Zm440 0h160v-160H620v160ZM180-180h160v-160H180v160Zm440 0h160v-160H620v160Z\"/>\n",
              "  </svg>\n",
              "    </button>\n",
              "\n",
              "  <style>\n",
              "    .colab-df-container {\n",
              "      display:flex;\n",
              "      gap: 12px;\n",
              "    }\n",
              "\n",
              "    .colab-df-convert {\n",
              "      background-color: #E8F0FE;\n",
              "      border: none;\n",
              "      border-radius: 50%;\n",
              "      cursor: pointer;\n",
              "      display: none;\n",
              "      fill: #1967D2;\n",
              "      height: 32px;\n",
              "      padding: 0 0 0 0;\n",
              "      width: 32px;\n",
              "    }\n",
              "\n",
              "    .colab-df-convert:hover {\n",
              "      background-color: #E2EBFA;\n",
              "      box-shadow: 0px 1px 2px rgba(60, 64, 67, 0.3), 0px 1px 3px 1px rgba(60, 64, 67, 0.15);\n",
              "      fill: #174EA6;\n",
              "    }\n",
              "\n",
              "    .colab-df-buttons div {\n",
              "      margin-bottom: 4px;\n",
              "    }\n",
              "\n",
              "    [theme=dark] .colab-df-convert {\n",
              "      background-color: #3B4455;\n",
              "      fill: #D2E3FC;\n",
              "    }\n",
              "\n",
              "    [theme=dark] .colab-df-convert:hover {\n",
              "      background-color: #434B5C;\n",
              "      box-shadow: 0px 1px 3px 1px rgba(0, 0, 0, 0.15);\n",
              "      filter: drop-shadow(0px 1px 2px rgba(0, 0, 0, 0.3));\n",
              "      fill: #FFFFFF;\n",
              "    }\n",
              "  </style>\n",
              "\n",
              "    <script>\n",
              "      const buttonEl =\n",
              "        document.querySelector('#df-baa7a816-0f58-4c07-a64a-510690c22871 button.colab-df-convert');\n",
              "      buttonEl.style.display =\n",
              "        google.colab.kernel.accessAllowed ? 'block' : 'none';\n",
              "\n",
              "      async function convertToInteractive(key) {\n",
              "        const element = document.querySelector('#df-baa7a816-0f58-4c07-a64a-510690c22871');\n",
              "        const dataTable =\n",
              "          await google.colab.kernel.invokeFunction('convertToInteractive',\n",
              "                                                    [key], {});\n",
              "        if (!dataTable) return;\n",
              "\n",
              "        const docLinkHtml = 'Like what you see? Visit the ' +\n",
              "          '<a target=\"_blank\" href=https://colab.research.google.com/notebooks/data_table.ipynb>data table notebook</a>'\n",
              "          + ' to learn more about interactive tables.';\n",
              "        element.innerHTML = '';\n",
              "        dataTable['output_type'] = 'display_data';\n",
              "        await google.colab.output.renderOutput(dataTable, element);\n",
              "        const docLink = document.createElement('div');\n",
              "        docLink.innerHTML = docLinkHtml;\n",
              "        element.appendChild(docLink);\n",
              "      }\n",
              "    </script>\n",
              "  </div>\n",
              "\n",
              "\n",
              "<div id=\"df-aa942dd5-bf83-47b8-ae4e-0da3b2dcbabb\">\n",
              "  <button class=\"colab-df-quickchart\" onclick=\"quickchart('df-aa942dd5-bf83-47b8-ae4e-0da3b2dcbabb')\"\n",
              "            title=\"Suggest charts\"\n",
              "            style=\"display:none;\">\n",
              "\n",
              "<svg xmlns=\"http://www.w3.org/2000/svg\" height=\"24px\"viewBox=\"0 0 24 24\"\n",
              "     width=\"24px\">\n",
              "    <g>\n",
              "        <path d=\"M19 3H5c-1.1 0-2 .9-2 2v14c0 1.1.9 2 2 2h14c1.1 0 2-.9 2-2V5c0-1.1-.9-2-2-2zM9 17H7v-7h2v7zm4 0h-2V7h2v10zm4 0h-2v-4h2v4z\"/>\n",
              "    </g>\n",
              "</svg>\n",
              "  </button>\n",
              "\n",
              "<style>\n",
              "  .colab-df-quickchart {\n",
              "      --bg-color: #E8F0FE;\n",
              "      --fill-color: #1967D2;\n",
              "      --hover-bg-color: #E2EBFA;\n",
              "      --hover-fill-color: #174EA6;\n",
              "      --disabled-fill-color: #AAA;\n",
              "      --disabled-bg-color: #DDD;\n",
              "  }\n",
              "\n",
              "  [theme=dark] .colab-df-quickchart {\n",
              "      --bg-color: #3B4455;\n",
              "      --fill-color: #D2E3FC;\n",
              "      --hover-bg-color: #434B5C;\n",
              "      --hover-fill-color: #FFFFFF;\n",
              "      --disabled-bg-color: #3B4455;\n",
              "      --disabled-fill-color: #666;\n",
              "  }\n",
              "\n",
              "  .colab-df-quickchart {\n",
              "    background-color: var(--bg-color);\n",
              "    border: none;\n",
              "    border-radius: 50%;\n",
              "    cursor: pointer;\n",
              "    display: none;\n",
              "    fill: var(--fill-color);\n",
              "    height: 32px;\n",
              "    padding: 0;\n",
              "    width: 32px;\n",
              "  }\n",
              "\n",
              "  .colab-df-quickchart:hover {\n",
              "    background-color: var(--hover-bg-color);\n",
              "    box-shadow: 0 1px 2px rgba(60, 64, 67, 0.3), 0 1px 3px 1px rgba(60, 64, 67, 0.15);\n",
              "    fill: var(--button-hover-fill-color);\n",
              "  }\n",
              "\n",
              "  .colab-df-quickchart-complete:disabled,\n",
              "  .colab-df-quickchart-complete:disabled:hover {\n",
              "    background-color: var(--disabled-bg-color);\n",
              "    fill: var(--disabled-fill-color);\n",
              "    box-shadow: none;\n",
              "  }\n",
              "\n",
              "  .colab-df-spinner {\n",
              "    border: 2px solid var(--fill-color);\n",
              "    border-color: transparent;\n",
              "    border-bottom-color: var(--fill-color);\n",
              "    animation:\n",
              "      spin 1s steps(1) infinite;\n",
              "  }\n",
              "\n",
              "  @keyframes spin {\n",
              "    0% {\n",
              "      border-color: transparent;\n",
              "      border-bottom-color: var(--fill-color);\n",
              "      border-left-color: var(--fill-color);\n",
              "    }\n",
              "    20% {\n",
              "      border-color: transparent;\n",
              "      border-left-color: var(--fill-color);\n",
              "      border-top-color: var(--fill-color);\n",
              "    }\n",
              "    30% {\n",
              "      border-color: transparent;\n",
              "      border-left-color: var(--fill-color);\n",
              "      border-top-color: var(--fill-color);\n",
              "      border-right-color: var(--fill-color);\n",
              "    }\n",
              "    40% {\n",
              "      border-color: transparent;\n",
              "      border-right-color: var(--fill-color);\n",
              "      border-top-color: var(--fill-color);\n",
              "    }\n",
              "    60% {\n",
              "      border-color: transparent;\n",
              "      border-right-color: var(--fill-color);\n",
              "    }\n",
              "    80% {\n",
              "      border-color: transparent;\n",
              "      border-right-color: var(--fill-color);\n",
              "      border-bottom-color: var(--fill-color);\n",
              "    }\n",
              "    90% {\n",
              "      border-color: transparent;\n",
              "      border-bottom-color: var(--fill-color);\n",
              "    }\n",
              "  }\n",
              "</style>\n",
              "\n",
              "  <script>\n",
              "    async function quickchart(key) {\n",
              "      const quickchartButtonEl =\n",
              "        document.querySelector('#' + key + ' button');\n",
              "      quickchartButtonEl.disabled = true;  // To prevent multiple clicks.\n",
              "      quickchartButtonEl.classList.add('colab-df-spinner');\n",
              "      try {\n",
              "        const charts = await google.colab.kernel.invokeFunction(\n",
              "            'suggestCharts', [key], {});\n",
              "      } catch (error) {\n",
              "        console.error('Error during call to suggestCharts:', error);\n",
              "      }\n",
              "      quickchartButtonEl.classList.remove('colab-df-spinner');\n",
              "      quickchartButtonEl.classList.add('colab-df-quickchart-complete');\n",
              "    }\n",
              "    (() => {\n",
              "      let quickchartButtonEl =\n",
              "        document.querySelector('#df-aa942dd5-bf83-47b8-ae4e-0da3b2dcbabb button');\n",
              "      quickchartButtonEl.style.display =\n",
              "        google.colab.kernel.accessAllowed ? 'block' : 'none';\n",
              "    })();\n",
              "  </script>\n",
              "</div>\n",
              "\n",
              "    </div>\n",
              "  </div>\n"
            ],
            "application/vnd.google.colaboratory.intrinsic+json": {
              "type": "dataframe",
              "variable_name": "data",
              "summary": "{\n  \"name\": \"data\",\n  \"rows\": 100,\n  \"fields\": [\n    {\n      \"column\": \"Temperature\",\n      \"properties\": {\n        \"dtype\": \"number\",\n        \"std\": 2.714481737092755,\n        \"min\": 20.01,\n        \"max\": 29.76,\n        \"num_unique_values\": 95,\n        \"samples\": [\n          25.98,\n          26.36,\n          23.58\n        ],\n        \"semantic_type\": \"\",\n        \"description\": \"\"\n      }\n    },\n    {\n      \"column\": \"Humidity\",\n      \"properties\": {\n        \"dtype\": \"number\",\n        \"std\": 5.665971882540309,\n        \"min\": 50.05,\n        \"max\": 69.68,\n        \"num_unique_values\": 98,\n        \"samples\": [\n          66.26,\n          67.78,\n          56.37\n        ],\n        \"semantic_type\": \"\",\n        \"description\": \"\"\n      }\n    },\n    {\n      \"column\": \"Light_Intensity\",\n      \"properties\": {\n        \"dtype\": \"number\",\n        \"std\": 70.46594013730567,\n        \"min\": 252.83,\n        \"max\": 494.28,\n        \"num_unique_values\": 100,\n        \"samples\": [\n          491.07,\n          311.46,\n          438.01\n        ],\n        \"semantic_type\": \"\",\n        \"description\": \"\"\n      }\n    },\n    {\n      \"column\": \"Energy_Consumption\",\n      \"properties\": {\n        \"dtype\": \"number\",\n        \"std\": 0.4531397090959873,\n        \"min\": 3.32,\n        \"max\": 5.38,\n        \"num_unique_values\": 74,\n        \"samples\": [\n          3.9,\n          3.5,\n          4.6\n        ],\n        \"semantic_type\": \"\",\n        \"description\": \"\"\n      }\n    }\n  ]\n}"
            }
          },
          "metadata": {},
          "execution_count": 4
        }
      ]
    },
    {
      "cell_type": "code",
      "source": [
        "# Defining dependent and independent variables\n",
        "data = data.to_numpy()\n",
        "X = data[:,:3]\n",
        "Y = data[:,3]\n",
        "X = X - X.mean(axis=0)"
      ],
      "metadata": {
        "id": "yYqmqgU0HF8Z"
      },
      "execution_count": null,
      "outputs": []
    },
    {
      "cell_type": "code",
      "source": [
        "# Visualisation\n",
        "plt.subplot(3, 1, 1)\n",
        "plt.scatter(data[:,0],data[:,3])\n",
        "plt.xlabel(\"Tempreture\")\n",
        "plt.ylabel(\"Energy Consumption\")\n",
        "plt.subplot(3, 1, 2)\n",
        "plt.scatter(data[:,1],data[:,3])\n",
        "plt.xlabel(\"Humidity\")\n",
        "plt.ylabel(\"Energy Consumption\")\n",
        "plt.subplot(3, 1, 3)\n",
        "plt.scatter(data[:,2],data[:,3])\n",
        "plt.xlabel(\"Light_Intensity\")\n",
        "plt.ylabel(\"Energy Consumption\")\n",
        "plt.tight_layout()"
      ],
      "metadata": {
        "colab": {
          "base_uri": "https://localhost:8080/",
          "height": 487
        },
        "id": "xJOOIY-3GWsI",
        "outputId": "4cbf7549-30af-4413-81f8-b05eeb2d35e7"
      },
      "execution_count": null,
      "outputs": [
        {
          "output_type": "display_data",
          "data": {
            "text/plain": [
              "<Figure size 640x480 with 3 Axes>"
            ],
            "image/png": "[encoded data removed]"
          },
          "metadata": {}
        }
      ]
    },
    {
      "cell_type": "markdown",
      "source": [
        "##Define a Linear Regression Model\n",
        "\n",
        "You can use the same API as for a neural network; the only thing to consider is that the output is linear.\n",
        "\n",
        "For futher information check [Functional API](https://www.tensorflow.org/api_docs/python/tf/keras/Model?_gl=1*1jhprjy*_up*MQ..*_ga*NTQ3NDYzMzA2LjE3Mjg2Nzk0Njg.*_ga_W0YLR4190T*MTcyODY3OTQ2OC4xLjAuMTcyODY3OTY0Mi4wLjAuMA..)"
      ],
      "metadata": {
        "id": "5G06TySnW2Y9"
      }
    },
    {
      "cell_type": "code",
      "source": [
        "# Define the model structure\n",
        "inputs = Input(shape=(3,)) # Shape refers to the number of independent variables (features) in the dataset.\n",
        "output = Dense(1)(inputs)\n",
        "model = Model(inputs=inputs, outputs=output)"
      ],
      "metadata": {
        "id": "ZZNTHK1p1zNk"
      },
      "execution_count": null,
      "outputs": []
    },
    {
      "cell_type": "markdown",
      "source": [
        "**Compile** the model using the mean squared error (MSE) loss function, as it is appropriate for linear models.\n",
        "\n",
        "**Mean Squared Error** ([MSE](https://www.tensorflow.org/api_docs/python/tf/keras/losses/MSE?_gl=1*qor7za*_up*MQ..*_ga*NTQ3NDYzMzA2LjE3Mjg2Nzk0Njg.*_ga_W0YLR4190T*MTcyODY3OTQ2OC4xLjAuMTcyODY3OTQ2OC4wLjAuMA..)) is a commonly used loss function for regression tasks, especially in linear regression. It measures the average of the squares of the differences between the predicted values and the actual (true) values.\n",
        "\n",
        "Formula for MSE:\n",
        "\n",
        "$MSE = \\frac{1}{n} \\sum_{i=1}^n (y_i - \\hat{y}_i)^2$\n",
        "\n",
        "Where:\n",
        "* $n$ is the number of data points.\n",
        "* $y_i$ is the actual value for the $i$-th data point.\n",
        "* $\\hat{y}_i$ is the predicted value for the $i$-th data point.\n",
        "\n",
        "**Further Parameters**\n",
        "\n",
        "In TensorFlow, when compiling a model, you typically specify an optimizer, a loss function, and one or more metrics. Here are some commonly used optimizers, loss functions, and metrics:\n",
        "\n",
        "**Optimizers**:\n",
        "*   SGD (Stochastic Gradient Descent): Classic optimization algorithm.\n",
        "*   Adam: A popular adaptive learning rate optimization algorithm.\n",
        "*   RMSprop: Another adaptive learning rate optimization algorithm.\n",
        "*   Adagrad: Adapts the learning rates individually for each parameter.\n",
        "\n",
        "\n",
        "**Loss Functions**:\n",
        "*   Mean Squared Error (MSE): it is already explained.\n",
        "*   Binary Cross-Entropy: Used for binary classification tasks.\n",
        "*   Categorical Cross-Entropy: Suitable for multiclass classification.\n",
        "*   Sparse Categorical Cross-Entropy: Used when your targets are integers (e.g., class indices).\n",
        "*   Kullback-Leibler Divergence (KLD): Used in variational autoencoders and other probabilistic models.\n",
        "\n",
        "**Metrics**:\n",
        "*   Accuracy: Commonly used for classification tasks.\n",
        "*   Precision: Measures the true positive rate in binary classification.\n",
        "*   Recall: Measures the ability to find all relevant instances in binary classification.\n",
        "*   F1 Score: Combines precision and recall into a single metric.\n",
        "*   Mean Absolute Error (MAE): Useful for regression problems.\n",
        "*   Mean Squared Error (MSE): Another metric for regression tasks.\n",
        "*   Categorical Accuracy: Used for multiclass classification.\n",
        "\n",
        "*You can choose the appropriate optimizer, loss function, and metrics based on your specific task and model architecture.*\n",
        "\n",
        "Source: https://www.tensorflow.org/"
      ],
      "metadata": {
        "id": "LWgNPh2FSicv"
      }
    },
    {
      "cell_type": "code",
      "source": [
        "model.compile(optimizer = 'adam', loss='mse')"
      ],
      "metadata": {
        "id": "6Oew4z4LQW78"
      },
      "execution_count": null,
      "outputs": []
    },
    {
      "cell_type": "markdown",
      "source": [
        "** Fit the model**\n",
        "\n",
        "tensorflow.keras.models.Model.fit function accepts various parameters to configure the training of a neural network model. Some of the most commonly used parameters include:\n",
        "*   x: The input data, usually as a NumPy array or a TensorFlow tensor.\n",
        "*   y: The target data (labels) that the model is learning to predict.\n",
        "*   batch_size: The number of samples per gradient update.\n",
        "*   epochs: The number of training iterations over the entire dataset.\n",
        "*   validation_data: Data on which to evaluate the loss and any model metrics at the end of each epoch.\n",
        "*   callbacks: A list of callback objects that perform actions at various stages during training.\n",
        "*   verbose: Verbosity mode (0, 1, or 2) controlling the amount of information printed during training.\n",
        "*   shuffle: A boolean indicating whether to shuffle the training data before each epoch.\n",
        "*   initial_epoch: The epoch at which to start training (useful for resuming a previous training session).\n",
        "*   steps_per_epoch: The number of batches to draw from the generator at each epoch.\n",
        "*   validation_steps: The number of batches to draw from the generator for validation.\n",
        "\n",
        "There are additional parameters for more advanced use cases, such as class weight, sample weight, and more, but the above list covers the basic parameters for training a model. You can refer to the TensorFlow documentation for more details and specific parameter options.\n",
        "\n",
        "Source: https://www.tensorflow.org/"
      ],
      "metadata": {
        "id": "_Ung2FoYRSlQ"
      }
    },
    {
      "cell_type": "code",
      "source": [
        "r = model.fit(X,Y, epochs = 100)"
      ],
      "metadata": {
        "colab": {
          "base_uri": "https://localhost:8080/"
        },
        "id": "2NZpLqn5RqPr",
        "outputId": "92386f28-ac5b-4ff4-e25a-ecc04d50edd6"
      },
      "execution_count": null,
      "outputs": [
        {
          "output_type": "stream",
          "name": "stdout",
          "text": [
            "Epoch 1/100\n",
            "\u001b[1m4/4\u001b[0m \u001b[32m━━━━━━━━━━━━━━━━━━━━\u001b[0m\u001b[37m\u001b[0m \u001b[1m1s\u001b[0m 68ms/step - loss: 2396.8105\n",
            "Epoch 2/100\n",
            "\u001b[1m4/4\u001b[0m \u001b[32m━━━━━━━━━━━━━━━━━━━━\u001b[0m\u001b[37m\u001b[0m \u001b[1m0s\u001b[0m 3ms/step - loss: 2182.9553  \n",
            "Epoch 3/100\n",
            "\u001b[1m4/4\u001b[0m \u001b[32m━━━━━━━━━━━━━━━━━━━━\u001b[0m\u001b[37m\u001b[0m \u001b[1m0s\u001b[0m 3ms/step - loss: 2368.7141 \n",
            "Epoch 4/100\n",
            "\u001b[1m4/4\u001b[0m \u001b[32m━━━━━━━━━━━━━━━━━━━━\u001b[0m\u001b[37m\u001b[0m \u001b[1m0s\u001b[0m 2ms/step - loss: 2202.5808 \n",
            "Epoch 5/100\n",
            "\u001b[1m4/4\u001b[0m \u001b[32m━━━━━━━━━━━━━━━━━━━━\u001b[0m\u001b[37m\u001b[0m \u001b[1m0s\u001b[0m 2ms/step - loss: 2280.1616 \n",
            "Epoch 6/100\n",
            "\u001b[1m4/4\u001b[0m \u001b[32m━━━━━━━━━━━━━━━━━━━━\u001b[0m\u001b[37m\u001b[0m \u001b[1m0s\u001b[0m 2ms/step - loss: 2230.8374 \n",
            "Epoch 7/100\n",
            "\u001b[1m4/4\u001b[0m \u001b[32m━━━━━━━━━━━━━━━━━━━━\u001b[0m\u001b[37m\u001b[0m \u001b[1m0s\u001b[0m 2ms/step - loss: 2226.0007 \n",
            "Epoch 8/100\n",
            "\u001b[1m4/4\u001b[0m \u001b[32m━━━━━━━━━━━━━━━━━━━━\u001b[0m\u001b[37m\u001b[0m \u001b[1m0s\u001b[0m 3ms/step - loss: 2145.2524 \n",
            "Epoch 9/100\n",
            "\u001b[1m4/4\u001b[0m \u001b[32m━━━━━━━━━━━━━━━━━━━━\u001b[0m\u001b[37m\u001b[0m \u001b[1m0s\u001b[0m 2ms/step - loss: 2188.2056 \n",
            "Epoch 10/100\n",
            "\u001b[1m4/4\u001b[0m \u001b[32m━━━━━━━━━━━━━━━━━━━━\u001b[0m\u001b[37m\u001b[0m \u001b[1m0s\u001b[0m 2ms/step - loss: 2122.7297 \n",
            "Epoch 11/100\n",
            "\u001b[1m4/4\u001b[0m \u001b[32m━━━━━━━━━━━━━━━━━━━━\u001b[0m\u001b[37m\u001b[0m \u001b[1m0s\u001b[0m 2ms/step - loss: 2124.7876 \n",
            "Epoch 12/100\n",
            "\u001b[1m4/4\u001b[0m \u001b[32m━━━━━━━━━━━━━━━━━━━━\u001b[0m\u001b[37m\u001b[0m \u001b[1m0s\u001b[0m 2ms/step - loss: 2074.4775 \n",
            "Epoch 13/100\n",
            "\u001b[1m4/4\u001b[0m \u001b[32m━━━━━━━━━━━━━━━━━━━━\u001b[0m\u001b[37m\u001b[0m \u001b[1m0s\u001b[0m 2ms/step - loss: 2069.5278 \n",
            "Epoch 14/100\n",
            "\u001b[1m4/4\u001b[0m \u001b[32m━━━━━━━━━━━━━━━━━━━━\u001b[0m\u001b[37m\u001b[0m \u001b[1m0s\u001b[0m 2ms/step - loss: 1871.0018 \n",
            "Epoch 15/100\n",
            "\u001b[1m4/4\u001b[0m \u001b[32m━━━━━━━━━━━━━━━━━━━━\u001b[0m\u001b[37m\u001b[0m \u001b[1m0s\u001b[0m 2ms/step - loss: 2084.1606 \n",
            "Epoch 16/100\n",
            "\u001b[1m4/4\u001b[0m \u001b[32m━━━━━━━━━━━━━━━━━━━━\u001b[0m\u001b[37m\u001b[0m \u001b[1m0s\u001b[0m 3ms/step - loss: 2013.0303 \n",
            "Epoch 17/100\n",
            "\u001b[1m4/4\u001b[0m \u001b[32m━━━━━━━━━━━━━━━━━━━━\u001b[0m\u001b[37m\u001b[0m \u001b[1m0s\u001b[0m 2ms/step - loss: 1963.0826 \n",
            "Epoch 18/100\n",
            "\u001b[1m4/4\u001b[0m \u001b[32m━━━━━━━━━━━━━━━━━━━━\u001b[0m\u001b[37m\u001b[0m \u001b[1m0s\u001b[0m 2ms/step - loss: 1886.9025 \n",
            "Epoch 19/100\n",
            "\u001b[1m4/4\u001b[0m \u001b[32m━━━━━━━━━━━━━━━━━━━━\u001b[0m\u001b[37m\u001b[0m \u001b[1m0s\u001b[0m 2ms/step - loss: 1898.8250 \n",
            "Epoch 20/100\n",
            "\u001b[1m4/4\u001b[0m \u001b[32m━━━━━━━━━━━━━━━━━━━━\u001b[0m\u001b[37m\u001b[0m \u001b[1m0s\u001b[0m 2ms/step - loss: 1943.7073 \n",
            "Epoch 21/100\n",
            "\u001b[1m4/4\u001b[0m \u001b[32m━━━━━━━━━━━━━━━━━━━━\u001b[0m\u001b[37m\u001b[0m \u001b[1m0s\u001b[0m 2ms/step - loss: 1917.0332 \n",
            "Epoch 22/100\n",
            "\u001b[1m4/4\u001b[0m \u001b[32m━━━━━━━━━━━━━━━━━━━━\u001b[0m\u001b[37m\u001b[0m \u001b[1m0s\u001b[0m 3ms/step - loss: 1908.4567 \n",
            "Epoch 23/100\n",
            "\u001b[1m4/4\u001b[0m \u001b[32m━━━━━━━━━━━━━━━━━━━━\u001b[0m\u001b[37m\u001b[0m \u001b[1m0s\u001b[0m 3ms/step - loss: 1777.5645 \n",
            "Epoch 24/100\n",
            "\u001b[1m4/4\u001b[0m \u001b[32m━━━━━━━━━━━━━━━━━━━━\u001b[0m\u001b[37m\u001b[0m \u001b[1m0s\u001b[0m 3ms/step - loss: 1691.1508 \n",
            "Epoch 25/100\n",
            "\u001b[1m4/4\u001b[0m \u001b[32m━━━━━━━━━━━━━━━━━━━━\u001b[0m\u001b[37m\u001b[0m \u001b[1m0s\u001b[0m 3ms/step - loss: 1766.7263 \n",
            "Epoch 26/100\n",
            "\u001b[1m4/4\u001b[0m \u001b[32m━━━━━━━━━━━━━━━━━━━━\u001b[0m\u001b[37m\u001b[0m \u001b[1m0s\u001b[0m 3ms/step - loss: 1731.0131 \n",
            "Epoch 27/100\n",
            "\u001b[1m4/4\u001b[0m \u001b[32m━━━━━━━━━━━━━━━━━━━━\u001b[0m\u001b[37m\u001b[0m \u001b[1m0s\u001b[0m 3ms/step - loss: 1664.8176 \n",
            "Epoch 28/100\n",
            "\u001b[1m4/4\u001b[0m \u001b[32m━━━━━━━━━━━━━━━━━━━━\u001b[0m\u001b[37m\u001b[0m \u001b[1m0s\u001b[0m 3ms/step - loss: 1689.2665 \n",
            "Epoch 29/100\n",
            "\u001b[1m4/4\u001b[0m \u001b[32m━━━━━━━━━━━━━━━━━━━━\u001b[0m\u001b[37m\u001b[0m \u001b[1m0s\u001b[0m 2ms/step - loss: 1617.0137 \n",
            "Epoch 30/100\n",
            "\u001b[1m4/4\u001b[0m \u001b[32m━━━━━━━━━━━━━━━━━━━━\u001b[0m\u001b[37m\u001b[0m \u001b[1m0s\u001b[0m 2ms/step - loss: 1662.4916 \n",
            "Epoch 31/100\n",
            "\u001b[1m4/4\u001b[0m \u001b[32m━━━━━━━━━━━━━━━━━━━━\u001b[0m\u001b[37m\u001b[0m \u001b[1m0s\u001b[0m 3ms/step - loss: 1674.2626 \n",
            "Epoch 32/100\n",
            "\u001b[1m4/4\u001b[0m \u001b[32m━━━━━━━━━━━━━━━━━━━━\u001b[0m\u001b[37m\u001b[0m \u001b[1m0s\u001b[0m 2ms/step - loss: 1513.8204 \n",
            "Epoch 33/100\n",
            "\u001b[1m4/4\u001b[0m \u001b[32m━━━━━━━━━━━━━━━━━━━━\u001b[0m\u001b[37m\u001b[0m \u001b[1m0s\u001b[0m 2ms/step - loss: 1533.6956 \n",
            "Epoch 34/100\n",
            "\u001b[1m4/4\u001b[0m \u001b[32m━━━━━━━━━━━━━━━━━━━━\u001b[0m\u001b[37m\u001b[0m \u001b[1m0s\u001b[0m 2ms/step - loss: 1607.6490 \n",
            "Epoch 35/100\n",
            "\u001b[1m4/4\u001b[0m \u001b[32m━━━━━━━━━━━━━━━━━━━━\u001b[0m\u001b[37m\u001b[0m \u001b[1m0s\u001b[0m 2ms/step - loss: 1488.1338 \n",
            "Epoch 36/100\n",
            "\u001b[1m4/4\u001b[0m \u001b[32m━━━━━━━━━━━━━━━━━━━━\u001b[0m\u001b[37m\u001b[0m \u001b[1m0s\u001b[0m 3ms/step - loss: 1704.1116 \n",
            "Epoch 37/100\n",
            "\u001b[1m4/4\u001b[0m \u001b[32m━━━━━━━━━━━━━━━━━━━━\u001b[0m\u001b[37m\u001b[0m \u001b[1m0s\u001b[0m 2ms/step - loss: 1493.9786 \n",
            "Epoch 38/100\n",
            "\u001b[1m4/4\u001b[0m \u001b[32m━━━━━━━━━━━━━━━━━━━━\u001b[0m\u001b[37m\u001b[0m \u001b[1m0s\u001b[0m 2ms/step - loss: 1545.5613 \n",
            "Epoch 39/100\n",
            "\u001b[1m4/4\u001b[0m \u001b[32m━━━━━━━━━━━━━━━━━━━━\u001b[0m\u001b[37m\u001b[0m \u001b[1m0s\u001b[0m 2ms/step - loss: 1493.5109 \n",
            "Epoch 40/100\n",
            "\u001b[1m4/4\u001b[0m \u001b[32m━━━━━━━━━━━━━━━━━━━━\u001b[0m\u001b[37m\u001b[0m \u001b[1m0s\u001b[0m 2ms/step - loss: 1488.7742 \n",
            "Epoch 41/100\n",
            "\u001b[1m4/4\u001b[0m \u001b[32m━━━━━━━━━━━━━━━━━━━━\u001b[0m\u001b[37m\u001b[0m \u001b[1m0s\u001b[0m 2ms/step - loss: 1397.3074 \n",
            "Epoch 42/100\n",
            "\u001b[1m4/4\u001b[0m \u001b[32m━━━━━━━━━━━━━━━━━━━━\u001b[0m\u001b[37m\u001b[0m \u001b[1m0s\u001b[0m 3ms/step - loss: 1434.8820 \n",
            "Epoch 43/100\n",
            "\u001b[1m4/4\u001b[0m \u001b[32m━━━━━━━━━━━━━━━━━━━━\u001b[0m\u001b[37m\u001b[0m \u001b[1m0s\u001b[0m 3ms/step - loss: 1445.1178 \n",
            "Epoch 44/100\n",
            "\u001b[1m4/4\u001b[0m \u001b[32m━━━━━━━━━━━━━━━━━━━━\u001b[0m\u001b[37m\u001b[0m \u001b[1m0s\u001b[0m 3ms/step - loss: 1355.7858 \n",
            "Epoch 45/100\n",
            "\u001b[1m4/4\u001b[0m \u001b[32m━━━━━━━━━━━━━━━━━━━━\u001b[0m\u001b[37m\u001b[0m \u001b[1m0s\u001b[0m 2ms/step - loss: 1346.2981 \n",
            "Epoch 46/100\n",
            "\u001b[1m4/4\u001b[0m \u001b[32m━━━━━━━━━━━━━━━━━━━━\u001b[0m\u001b[37m\u001b[0m \u001b[1m0s\u001b[0m 3ms/step - loss: 1394.1095 \n",
            "Epoch 47/100\n",
            "\u001b[1m4/4\u001b[0m \u001b[32m━━━━━━━━━━━━━━━━━━━━\u001b[0m\u001b[37m\u001b[0m \u001b[1m0s\u001b[0m 3ms/step - loss: 1204.3757\n",
            "Epoch 48/100\n",
            "\u001b[1m4/4\u001b[0m \u001b[32m━━━━━━━━━━━━━━━━━━━━\u001b[0m\u001b[37m\u001b[0m \u001b[1m0s\u001b[0m 3ms/step - loss: 1282.4120 \n",
            "Epoch 49/100\n",
            "\u001b[1m4/4\u001b[0m \u001b[32m━━━━━━━━━━━━━━━━━━━━\u001b[0m\u001b[37m\u001b[0m \u001b[1m0s\u001b[0m 3ms/step - loss: 1327.3573 \n",
            "Epoch 50/100\n",
            "\u001b[1m4/4\u001b[0m \u001b[32m━━━━━━━━━━━━━━━━━━━━\u001b[0m\u001b[37m\u001b[0m \u001b[1m0s\u001b[0m 2ms/step - loss: 1255.6224 \n",
            "Epoch 51/100\n",
            "\u001b[1m4/4\u001b[0m \u001b[32m━━━━━━━━━━━━━━━━━━━━\u001b[0m\u001b[37m\u001b[0m \u001b[1m0s\u001b[0m 3ms/step - loss: 1277.0098 \n",
            "Epoch 52/100\n",
            "\u001b[1m4/4\u001b[0m \u001b[32m━━━━━━━━━━━━━━━━━━━━\u001b[0m\u001b[37m\u001b[0m \u001b[1m0s\u001b[0m 3ms/step - loss: 1259.6100 \n",
            "Epoch 53/100\n",
            "\u001b[1m4/4\u001b[0m \u001b[32m━━━━━━━━━━━━━━━━━━━━\u001b[0m\u001b[37m\u001b[0m \u001b[1m0s\u001b[0m 3ms/step - loss: 1220.5524 \n",
            "Epoch 54/100\n",
            "\u001b[1m4/4\u001b[0m \u001b[32m━━━━━━━━━━━━━━━━━━━━\u001b[0m\u001b[37m\u001b[0m \u001b[1m0s\u001b[0m 2ms/step - loss: 1270.0431 \n",
            "Epoch 55/100\n",
            "\u001b[1m4/4\u001b[0m \u001b[32m━━━━━━━━━━━━━━━━━━━━\u001b[0m\u001b[37m\u001b[0m \u001b[1m0s\u001b[0m 2ms/step - loss: 1147.3517 \n",
            "Epoch 56/100\n",
            "\u001b[1m4/4\u001b[0m \u001b[32m━━━━━━━━━━━━━━━━━━━━\u001b[0m\u001b[37m\u001b[0m \u001b[1m0s\u001b[0m 2ms/step - loss: 1146.8643 \n",
            "Epoch 57/100\n",
            "\u001b[1m4/4\u001b[0m \u001b[32m━━━━━━━━━━━━━━━━━━━━\u001b[0m\u001b[37m\u001b[0m \u001b[1m0s\u001b[0m 2ms/step - loss: 1144.9222\n",
            "Epoch 58/100\n",
            "\u001b[1m4/4\u001b[0m \u001b[32m━━━━━━━━━━━━━━━━━━━━\u001b[0m\u001b[37m\u001b[0m \u001b[1m0s\u001b[0m 2ms/step - loss: 1135.5941 \n",
            "Epoch 59/100\n",
            "\u001b[1m4/4\u001b[0m \u001b[32m━━━━━━━━━━━━━━━━━━━━\u001b[0m\u001b[37m\u001b[0m \u001b[1m0s\u001b[0m 2ms/step - loss: 1183.9294 \n",
            "Epoch 60/100\n",
            "\u001b[1m4/4\u001b[0m \u001b[32m━━━━━━━━━━━━━━━━━━━━\u001b[0m\u001b[37m\u001b[0m \u001b[1m0s\u001b[0m 2ms/step - loss: 1099.7111 \n",
            "Epoch 61/100\n",
            "\u001b[1m4/4\u001b[0m \u001b[32m━━━━━━━━━━━━━━━━━━━━\u001b[0m\u001b[37m\u001b[0m \u001b[1m0s\u001b[0m 4ms/step - loss: 1169.9974 \n",
            "Epoch 62/100\n",
            "\u001b[1m4/4\u001b[0m \u001b[32m━━━━━━━━━━━━━━━━━━━━\u001b[0m\u001b[37m\u001b[0m \u001b[1m0s\u001b[0m 2ms/step - loss: 1096.4242 \n",
            "Epoch 63/100\n",
            "\u001b[1m4/4\u001b[0m \u001b[32m━━━━━━━━━━━━━━━━━━━━\u001b[0m\u001b[37m\u001b[0m \u001b[1m0s\u001b[0m 2ms/step - loss: 1113.1864 \n",
            "Epoch 64/100\n",
            "\u001b[1m4/4\u001b[0m \u001b[32m━━━━━━━━━━━━━━━━━━━━\u001b[0m\u001b[37m\u001b[0m \u001b[1m0s\u001b[0m 2ms/step - loss: 1128.7773 \n",
            "Epoch 65/100\n",
            "\u001b[1m4/4\u001b[0m \u001b[32m━━━━━━━━━━━━━━━━━━━━\u001b[0m\u001b[37m\u001b[0m \u001b[1m0s\u001b[0m 2ms/step - loss: 1104.4983 \n",
            "Epoch 66/100\n",
            "\u001b[1m4/4\u001b[0m \u001b[32m━━━━━━━━━━━━━━━━━━━━\u001b[0m\u001b[37m\u001b[0m \u001b[1m0s\u001b[0m 2ms/step - loss: 1042.0209\n",
            "Epoch 67/100\n",
            "\u001b[1m4/4\u001b[0m \u001b[32m━━━━━━━━━━━━━━━━━━━━\u001b[0m\u001b[37m\u001b[0m \u001b[1m0s\u001b[0m 3ms/step - loss: 1028.2323 \n",
            "Epoch 68/100\n",
            "\u001b[1m4/4\u001b[0m \u001b[32m━━━━━━━━━━━━━━━━━━━━\u001b[0m\u001b[37m\u001b[0m \u001b[1m0s\u001b[0m 3ms/step - loss: 1076.8854 \n",
            "Epoch 69/100\n",
            "\u001b[1m4/4\u001b[0m \u001b[32m━━━━━━━━━━━━━━━━━━━━\u001b[0m\u001b[37m\u001b[0m \u001b[1m0s\u001b[0m 2ms/step - loss: 1079.8851 \n",
            "Epoch 70/100\n",
            "\u001b[1m4/4\u001b[0m \u001b[32m━━━━━━━━━━━━━━━━━━━━\u001b[0m\u001b[37m\u001b[0m \u001b[1m0s\u001b[0m 3ms/step - loss: 969.8862 \n",
            "Epoch 71/100\n",
            "\u001b[1m4/4\u001b[0m \u001b[32m━━━━━━━━━━━━━━━━━━━━\u001b[0m\u001b[37m\u001b[0m \u001b[1m0s\u001b[0m 3ms/step - loss: 957.0145 \n",
            "Epoch 72/100\n",
            "\u001b[1m4/4\u001b[0m \u001b[32m━━━━━━━━━━━━━━━━━━━━\u001b[0m\u001b[37m\u001b[0m \u001b[1m0s\u001b[0m 4ms/step - loss: 975.5186  \n",
            "Epoch 73/100\n",
            "\u001b[1m4/4\u001b[0m \u001b[32m━━━━━━━━━━━━━━━━━━━━\u001b[0m\u001b[37m\u001b[0m \u001b[1m0s\u001b[0m 3ms/step - loss: 911.8435 \n",
            "Epoch 74/100\n",
            "\u001b[1m4/4\u001b[0m \u001b[32m━━━━━━━━━━━━━━━━━━━━\u001b[0m\u001b[37m\u001b[0m \u001b[1m0s\u001b[0m 3ms/step - loss: 940.7720 \n",
            "Epoch 75/100\n",
            "\u001b[1m4/4\u001b[0m \u001b[32m━━━━━━━━━━━━━━━━━━━━\u001b[0m\u001b[37m\u001b[0m \u001b[1m0s\u001b[0m 2ms/step - loss: 946.3425 \n",
            "Epoch 76/100\n",
            "\u001b[1m4/4\u001b[0m \u001b[32m━━━━━━━━━━━━━━━━━━━━\u001b[0m\u001b[37m\u001b[0m \u001b[1m0s\u001b[0m 2ms/step - loss: 897.8121 \n",
            "Epoch 77/100\n",
            "\u001b[1m4/4\u001b[0m \u001b[32m━━━━━━━━━━━━━━━━━━━━\u001b[0m\u001b[37m\u001b[0m \u001b[1m0s\u001b[0m 3ms/step - loss: 896.2161 \n",
            "Epoch 78/100\n",
            "\u001b[1m4/4\u001b[0m \u001b[32m━━━━━━━━━━━━━━━━━━━━\u001b[0m\u001b[37m\u001b[0m \u001b[1m0s\u001b[0m 3ms/step - loss: 868.2981 \n",
            "Epoch 79/100\n",
            "\u001b[1m4/4\u001b[0m \u001b[32m━━━━━━━━━━━━━━━━━━━━\u001b[0m\u001b[37m\u001b[0m \u001b[1m0s\u001b[0m 3ms/step - loss: 834.8450 \n",
            "Epoch 80/100\n",
            "\u001b[1m4/4\u001b[0m \u001b[32m━━━━━━━━━━━━━━━━━━━━\u001b[0m\u001b[37m\u001b[0m \u001b[1m0s\u001b[0m 3ms/step - loss: 867.1197 \n",
            "Epoch 81/100\n",
            "\u001b[1m4/4\u001b[0m \u001b[32m━━━━━━━━━━━━━━━━━━━━\u001b[0m\u001b[37m\u001b[0m \u001b[1m0s\u001b[0m 3ms/step - loss: 860.3500 \n",
            "Epoch 82/100\n",
            "\u001b[1m4/4\u001b[0m \u001b[32m━━━━━━━━━━━━━━━━━━━━\u001b[0m\u001b[37m\u001b[0m \u001b[1m0s\u001b[0m 3ms/step - loss: 820.2283 \n",
            "Epoch 83/100\n",
            "\u001b[1m4/4\u001b[0m \u001b[32m━━━━━━━━━━━━━━━━━━━━\u001b[0m\u001b[37m\u001b[0m \u001b[1m0s\u001b[0m 3ms/step - loss: 875.4849 \n",
            "Epoch 84/100\n",
            "\u001b[1m4/4\u001b[0m \u001b[32m━━━━━━━━━━━━━━━━━━━━\u001b[0m\u001b[37m\u001b[0m \u001b[1m0s\u001b[0m 3ms/step - loss: 859.8974  \n",
            "Epoch 85/100\n",
            "\u001b[1m4/4\u001b[0m \u001b[32m━━━━━━━━━━━━━━━━━━━━\u001b[0m\u001b[37m\u001b[0m \u001b[1m0s\u001b[0m 3ms/step - loss: 850.6132 \n",
            "Epoch 86/100\n",
            "\u001b[1m4/4\u001b[0m \u001b[32m━━━━━━━━━━━━━━━━━━━━\u001b[0m\u001b[37m\u001b[0m \u001b[1m0s\u001b[0m 3ms/step - loss: 804.3561 \n",
            "Epoch 87/100\n",
            "\u001b[1m4/4\u001b[0m \u001b[32m━━━━━━━━━━━━━━━━━━━━\u001b[0m\u001b[37m\u001b[0m \u001b[1m0s\u001b[0m 3ms/step - loss: 859.3564  \n",
            "Epoch 88/100\n",
            "\u001b[1m4/4\u001b[0m \u001b[32m━━━━━━━━━━━━━━━━━━━━\u001b[0m\u001b[37m\u001b[0m \u001b[1m0s\u001b[0m 3ms/step - loss: 745.5471 \n",
            "Epoch 89/100\n",
            "\u001b[1m4/4\u001b[0m \u001b[32m━━━━━━━━━━━━━━━━━━━━\u001b[0m\u001b[37m\u001b[0m \u001b[1m0s\u001b[0m 3ms/step - loss: 715.2545 \n",
            "Epoch 90/100\n",
            "\u001b[1m4/4\u001b[0m \u001b[32m━━━━━━━━━━━━━━━━━━━━\u001b[0m\u001b[37m\u001b[0m \u001b[1m0s\u001b[0m 2ms/step - loss: 727.8703 \n",
            "Epoch 91/100\n",
            "\u001b[1m4/4\u001b[0m \u001b[32m━━━━━━━━━━━━━━━━━━━━\u001b[0m\u001b[37m\u001b[0m \u001b[1m0s\u001b[0m 2ms/step - loss: 809.8951 \n",
            "Epoch 92/100\n",
            "\u001b[1m4/4\u001b[0m \u001b[32m━━━━━━━━━━━━━━━━━━━━\u001b[0m\u001b[37m\u001b[0m \u001b[1m0s\u001b[0m 2ms/step - loss: 707.6193 \n",
            "Epoch 93/100\n",
            "\u001b[1m4/4\u001b[0m \u001b[32m━━━━━━━━━━━━━━━━━━━━\u001b[0m\u001b[37m\u001b[0m \u001b[1m0s\u001b[0m 3ms/step - loss: 719.7073 \n",
            "Epoch 94/100\n",
            "\u001b[1m4/4\u001b[0m \u001b[32m━━━━━━━━━━━━━━━━━━━━\u001b[0m\u001b[37m\u001b[0m \u001b[1m0s\u001b[0m 3ms/step - loss: 707.4756 \n",
            "Epoch 95/100\n",
            "\u001b[1m4/4\u001b[0m \u001b[32m━━━━━━━━━━━━━━━━━━━━\u001b[0m\u001b[37m\u001b[0m \u001b[1m0s\u001b[0m 3ms/step - loss: 657.5154 \n",
            "Epoch 96/100\n",
            "\u001b[1m4/4\u001b[0m \u001b[32m━━━━━━━━━━━━━━━━━━━━\u001b[0m\u001b[37m\u001b[0m \u001b[1m0s\u001b[0m 3ms/step - loss: 694.0413 \n",
            "Epoch 97/100\n",
            "\u001b[1m4/4\u001b[0m \u001b[32m━━━━━━━━━━━━━━━━━━━━\u001b[0m\u001b[37m\u001b[0m \u001b[1m0s\u001b[0m 3ms/step - loss: 652.1033 \n",
            "Epoch 98/100\n",
            "\u001b[1m4/4\u001b[0m \u001b[32m━━━━━━━━━━━━━━━━━━━━\u001b[0m\u001b[37m\u001b[0m \u001b[1m0s\u001b[0m 3ms/step - loss: 635.0154 \n",
            "Epoch 99/100\n",
            "\u001b[1m4/4\u001b[0m \u001b[32m━━━━━━━━━━━━━━━━━━━━\u001b[0m\u001b[37m\u001b[0m \u001b[1m0s\u001b[0m 4ms/step - loss: 669.5080 \n",
            "Epoch 100/100\n",
            "\u001b[1m4/4\u001b[0m \u001b[32m━━━━━━━━━━━━━━━━━━━━\u001b[0m\u001b[37m\u001b[0m \u001b[1m0s\u001b[0m 5ms/step - loss: 616.7773 \n"
          ]
        }
      ]
    },
    {
      "cell_type": "code",
      "source": [
        "plt.plot(r.history['loss'], label = 'loss')\n",
        "plt.legend()"
      ],
      "metadata": {
        "colab": {
          "base_uri": "https://localhost:8080/",
          "height": 448
        },
        "id": "9FjB1t_qSWo1",
        "outputId": "9292173c-306e-4a1e-da0e-fe085fb8601e"
      },
      "execution_count": null,
      "outputs": [
        {
          "output_type": "execute_result",
          "data": {
            "text/plain": [
              "<matplotlib.legend.Legend at 0x7bb2644afb80>"
            ]
          },
          "metadata": {},
          "execution_count": 10
        },
        {
          "output_type": "display_data",
          "data": {
            "text/plain": [
              "<Figure size 640x480 with 1 Axes>"
            ],
            "image/png": "[encoded data removed]"
          },
          "metadata": {}
        }
      ]
    },
    {
      "cell_type": "code",
      "source": [
        "# Model parameters\n",
        "b = model.layers[1].get_weights()[1][0]\n",
        "w1 = model.layers[1].get_weights()[0][0,0]\n",
        "w2 = model.layers[1].get_weights()[0][1,0]\n",
        "w3 = model.layers[1].get_weights()[0][2,0]\n",
        "\n",
        "print('b:', b , 'w1:', w1,'w2:', w2,'w3:',w3)"
      ],
      "metadata": {
        "colab": {
          "base_uri": "https://localhost:8080/"
        },
        "id": "fGOCRPwrT7XH",
        "outputId": "1d92aa1f-1d59-45f6-ed84-d5878dcd2e15"
      },
      "execution_count": null,
      "outputs": [
        {
          "output_type": "stream",
          "name": "stdout",
          "text": [
            "b: 0.15660663 w1: 0.091977455 w2: -0.33300543 w3: -0.35083547\n"
          ]
        }
      ]
    }
  ]
}